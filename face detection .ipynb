{
 "cells": [
  {
   "cell_type": "code",
   "execution_count": null,
   "id": "766afa73",
   "metadata": {},
   "outputs": [],
   "source": [
    "import  math\n",
    "a=float(input(\"enter the coefficient of x^2\"))\n",
    "b=float(input(\"enter the coefficient of x\"))\n",
    "c=float(input(\"enter the constant\"))\n",
    "d=b**2-4*a*c\n",
    "if d>0:\n",
    "    r1=-b+(math.sqrt(d))/2*a\n",
    "    r2=-b-(math.sqrt(d))/2*a\n",
    "    print(\"roots are real\",r1,r2)\n",
    "if d==0:\n",
    "    r=-b/2*a\n",
    "    print(\"roots are equal that means r1 and r2 has equal roots\")\n",
    "else:\n",
    "    print(\"roots are not real\")"
   ]
  },
  {
   "cell_type": "code",
   "execution_count": 1,
   "id": "3e6d66f7",
   "metadata": {},
   "outputs": [
    {
     "name": "stdout",
     "output_type": "stream",
     "text": [
      "Note: you may need to restart the kernel to use updated packages.\n"
     ]
    },
    {
     "name": "stderr",
     "output_type": "stream",
     "text": [
      "'C:\\Users\\nagasundar' is not recognized as an internal or external command,\n",
      "operable program or batch file.\n"
     ]
    }
   ],
   "source": [
    "pip install bz2file\n"
   ]
  },
  {
   "cell_type": "code",
   "execution_count": 1,
   "id": "de38ec3a",
   "metadata": {},
   "outputs": [
    {
     "ename": "ModuleNotFoundError",
     "evalue": "No module named 'bz2file'",
     "output_type": "error",
     "traceback": [
      "\u001b[1;31m---------------------------------------------------------------------------\u001b[0m",
      "\u001b[1;31mModuleNotFoundError\u001b[0m                       Traceback (most recent call last)",
      "\u001b[1;32m<ipython-input-1-ec423c841d8d>\u001b[0m in \u001b[0;36m<module>\u001b[1;34m\u001b[0m\n\u001b[1;32m----> 1\u001b[1;33m \u001b[1;32mimport\u001b[0m \u001b[0mbz2file\u001b[0m \u001b[1;32mas\u001b[0m \u001b[0mbz2\u001b[0m\u001b[1;33m\u001b[0m\u001b[1;33m\u001b[0m\u001b[0m\n\u001b[0m\u001b[0;32m      2\u001b[0m \u001b[1;32mimport\u001b[0m \u001b[0mpickle\u001b[0m\u001b[1;33m\u001b[0m\u001b[1;33m\u001b[0m\u001b[0m\n",
      "\u001b[1;31mModuleNotFoundError\u001b[0m: No module named 'bz2file'"
     ]
    }
   ],
   "source": [
    "import bz2file as bz2\n",
    "import pickle"
   ]
  },
  {
   "cell_type": "code",
   "execution_count": 8,
   "id": "c16049f0",
   "metadata": {},
   "outputs": [
    {
     "name": "stdout",
     "output_type": "stream",
     "text": [
      "5.0\n"
     ]
    }
   ],
   "source": [
    "print(2+4*4**2/5//4)"
   ]
  },
  {
   "cell_type": "code",
   "execution_count": 5,
   "id": "4ab35e2e",
   "metadata": {},
   "outputs": [
    {
     "name": "stdout",
     "output_type": "stream",
     "text": [
      "0.0\n"
     ]
    }
   ],
   "source": [
    "print(2/5//4)"
   ]
  },
  {
   "cell_type": "code",
   "execution_count": 4,
   "id": "768ad670",
   "metadata": {},
   "outputs": [
    {
     "name": "stdout",
     "output_type": "stream",
     "text": [
      "0.0\n"
     ]
    }
   ],
   "source": [
    "print(0.4//4)"
   ]
  },
  {
   "cell_type": "code",
   "execution_count": 10,
   "id": "c92b5740",
   "metadata": {},
   "outputs": [
    {
     "name": "stdout",
     "output_type": "stream",
     "text": [
      "False\n"
     ]
    }
   ],
   "source": [
    " print(not(\"hello\" == \"hello\")and (\"welcome\" == \"welcome\"))"
   ]
  },
  {
   "cell_type": "code",
   "execution_count": 11,
   "id": "b1905def",
   "metadata": {},
   "outputs": [
    {
     "name": "stdout",
     "output_type": "stream",
     "text": [
      "False\n"
     ]
    }
   ],
   "source": [
    "print(\"yes\" == \"ok\")"
   ]
  },
  {
   "cell_type": "code",
   "execution_count": 12,
   "id": "8b481c42",
   "metadata": {},
   "outputs": [
    {
     "name": "stdout",
     "output_type": "stream",
     "text": [
      "2\n"
     ]
    }
   ],
   "source": [
    "def foo():\n",
    "    try:\n",
    "        return 1\n",
    "    finally:\n",
    "        return 2\n",
    "k = foo()\n",
    "print(k)"
   ]
  },
  {
   "cell_type": "code",
   "execution_count": 6,
   "id": "d162f356",
   "metadata": {},
   "outputs": [],
   "source": [
    "\n",
    "# face detection with mtcnn on a photograph\n",
    "from matplotlib import pyplot\n",
    "from matplotlib.patches import Rectangle\n",
    "from mtcnn.mtcnn import MTCNN"
   ]
  },
  {
   "cell_type": "code",
   "execution_count": 7,
   "id": "b4ebe231",
   "metadata": {},
   "outputs": [],
   "source": [
    "from mtcnn.mtcnn import MTCNN\n",
    "# face detection with mtcnn on a photograph\n",
    "from matplotlib import pyplot\n",
    "from matplotlib.patches import Rectangle"
   ]
  },
  {
   "cell_type": "code",
   "execution_count": 8,
   "id": "70b4fca9",
   "metadata": {},
   "outputs": [],
   "source": [
    "# plot photo with detected faces using opencv cascade classifier\n",
    "from cv2 import imread\n",
    "from cv2 import imshow\n",
    "from cv2 import waitKey\n",
    "from cv2 import destroyAllWindows\n",
    "from cv2 import CascadeClassifier\n",
    "from cv2 import rectangle"
   ]
  },
  {
   "cell_type": "code",
   "execution_count": 9,
   "id": "f49acd2e",
   "metadata": {},
   "outputs": [
    {
     "name": "stdout",
     "output_type": "stream",
     "text": [
      "4.6.0\n"
     ]
    }
   ],
   "source": [
    "import cv2\n",
    "# plot photo with detected faces using opencv cascade classifier\n",
    "from cv2 import imread\n",
    "from cv2 import imshow\n",
    "from cv2 import waitKey\n",
    "from cv2 import destroyAllWindows\n",
    "from cv2 import CascadeClassifier\n",
    "from cv2 import rectangle\n",
    "\n",
    "# check opencv version\n",
    "\n",
    "# print version number\n",
    "print(cv2.__version__)"
   ]
  },
  {
   "cell_type": "code",
   "execution_count": 28,
   "id": "82f98d2e",
   "metadata": {},
   "outputs": [
    {
     "data": {
      "text/plain": [
       "()"
      ]
     },
     "execution_count": 28,
     "metadata": {},
     "output_type": "execute_result"
    }
   ],
   "source": [
    "faces"
   ]
  },
  {
   "cell_type": "code",
   "execution_count": 23,
   "id": "23b411bf",
   "metadata": {},
   "outputs": [
    {
     "name": "stdout",
     "output_type": "stream",
     "text": [
      "-1\n"
     ]
    }
   ],
   "source": [
    "key = cv2.waitKey(1) \n",
    "print(key) "
   ]
  },
  {
   "cell_type": "code",
   "execution_count": 32,
   "id": "f3a4d381",
   "metadata": {},
   "outputs": [
    {
     "ename": "AttributeError",
     "evalue": "module 'cv2' has no attribute 'distroyAllWindows'",
     "output_type": "error",
     "traceback": [
      "\u001b[1;31m---------------------------------------------------------------------------\u001b[0m",
      "\u001b[1;31mAttributeError\u001b[0m                            Traceback (most recent call last)",
      "\u001b[1;32m<ipython-input-32-e634a7d6ce4f>\u001b[0m in \u001b[0;36m<module>\u001b[1;34m\u001b[0m\n\u001b[0;32m     13\u001b[0m     \u001b[1;32mbreak\u001b[0m\u001b[1;33m\u001b[0m\u001b[1;33m\u001b[0m\u001b[0m\n\u001b[0;32m     14\u001b[0m \u001b[0mcap\u001b[0m\u001b[1;33m.\u001b[0m\u001b[0mrelease\u001b[0m\u001b[1;33m(\u001b[0m\u001b[1;33m)\u001b[0m\u001b[1;33m\u001b[0m\u001b[1;33m\u001b[0m\u001b[0m\n\u001b[1;32m---> 15\u001b[1;33m \u001b[0mcv2\u001b[0m\u001b[1;33m.\u001b[0m\u001b[0mdistroyAllWindows\u001b[0m\u001b[1;33m(\u001b[0m\u001b[1;33m)\u001b[0m\u001b[1;33m\u001b[0m\u001b[1;33m\u001b[0m\u001b[0m\n\u001b[0m",
      "\u001b[1;31mAttributeError\u001b[0m: module 'cv2' has no attribute 'distroyAllWindows'"
     ]
    }
   ],
   "source": [
    "cap = cv2.VideoCapture(0)\n",
    "face_classifier = cv2.CascadeClassifier('C:\\\\Users\\\\nagasundar chokkakul\\\\Downloads\\\\haar-cascade-files-master\\\\haarcascade_frontalface_default.xml')\n",
    "\n",
    "while True:\n",
    "  ret, frame  = cap.read()\n",
    "  frame = cv2.cvtColor(frame ,0)\n",
    "  faces = face_classifier.detectMultiScale(frame )\n",
    "  if(len(faces) > 1):\n",
    "    (x,y,w,h) = faces[0]\n",
    "    frame = cv2.rectangle(frame ,(x,y) , (x+w, y+h),(255,0,0),2)\n",
    "  cv2.imshow('frame',frame)\n",
    "  if cv2.waitKey(1) & 0b11111111 == ord('q'):\n",
    "    break\n",
    "cap.release()\n",
    "cv2.distroyAllWindows()"
   ]
  },
  {
   "cell_type": "code",
   "execution_count": 25,
   "id": "ea17377b",
   "metadata": {},
   "outputs": [
    {
     "data": {
      "text/plain": [
       "False"
      ]
     },
     "execution_count": 25,
     "metadata": {},
     "output_type": "execute_result"
    }
   ],
   "source": [
    "face_classifier.empty()"
   ]
  },
  {
   "cell_type": "code",
   "execution_count": 27,
   "id": "d1a54e01",
   "metadata": {},
   "outputs": [
    {
     "data": {
      "text/plain": [
       "True"
      ]
     },
     "execution_count": 27,
     "metadata": {},
     "output_type": "execute_result"
    }
   ],
   "source": [
    "ret"
   ]
  },
  {
   "cell_type": "code",
   "execution_count": 31,
   "id": "6bba1731",
   "metadata": {},
   "outputs": [
    {
     "ename": "SyntaxError",
     "evalue": "invalid syntax (<ipython-input-31-70873a6e6405>, line 14)",
     "output_type": "error",
     "traceback": [
      "\u001b[1;36m  File \u001b[1;32m\"<ipython-input-31-70873a6e6405>\"\u001b[1;36m, line \u001b[1;32m14\u001b[0m\n\u001b[1;33m    If faces is ():\u001b[0m\n\u001b[1;37m       ^\u001b[0m\n\u001b[1;31mSyntaxError\u001b[0m\u001b[1;31m:\u001b[0m invalid syntax\n"
     ]
    }
   ],
   "source": [
    "#import libraries\n",
    "import cv2\n",
    "import numpy as np\n",
    "\n",
    "#import classifier for face and eye detection\n",
    "face_classifier = cv2.CascadeClassifier('C:\\\\Users\\\\nagasundar chokkakul\\\\Downloads\\\\haar-cascade-files-master\\\\haarcascade_frontalface_default.xml')\n",
    "eye_classifier = cv2.CascadeClassifier ('C:\\\\Users\\\\nagasundar chokkakul\\\\Downloads\\\\haar-cascade-files-master\\\\haarcascade_eye.xml')\n",
    "                                        \n",
    "def face_detector (img, size=0.5):\n",
    "                                 \n",
    "    # Convert Image to Grayscale\n",
    "    gray = cv2.cvtColor (img, cv2.COLOR_BGR2GRAY)\n",
    "    faces = face_classifier.detectMultiScale (gray, 1.3, 5)\n",
    "If faces is ():\n",
    "    return img\n",
    "# Given coordinates to detect face and eyes location from ROI\n",
    "for (x, y, w, h) in faces:\n",
    "    x = x — 100\n",
    "    w = w + 100\n",
    "    y = y — 100\n",
    "    h = h + 100\n",
    "    cv2.rectangle (img, (x, y), (x+w, y+h), (255, 0, 0), 2)\n",
    "    roi_gray = gray[y: y+h, x: x+w]\n",
    "    roi_color = img[y: y+h, x: x+w]\n",
    "    eyes = eye_classifier.detectMultiScale (roi_gray)\n",
    "for (ex, ey, ew, eh) in eyes:\n",
    "    cv2.rectangle(roi_color,(ex,ey),(ex+ew,ey+eh),(0,0,255),2)\n",
    "    roi_color = cv2.flip (roi_color, 1)\n",
    "    return roi_color\n",
    "# Webcam setup for Face Detection\n",
    "cap = cv2.VideoCapture (0)\n",
    "while True:\n",
    "    ret, frame = cap.read ()\n",
    "    cv2.imshow (‘Our Face Extractor’, face_detector (frame))\n",
    "if cv2.waitKey (1) == 13: #13 is the Enter Key\n",
    "break\n",
    "# When everything done, release the capture\n",
    "cap.release ()\n",
    "cv2.destroyAllWindows ()"
   ]
  },
  {
   "cell_type": "code",
   "execution_count": 7,
   "id": "1b807e77",
   "metadata": {},
   "outputs": [],
   "source": [
    "\n",
    "# OpenCV program to detect face in real time\n",
    "# import libraries of python OpenCV \n",
    "# where its functionality resides\n",
    "import cv2 \n",
    "  \n",
    "# load the required trained XML classifiers\n",
    "# https://github.com/Itseez/opencv/blob/master/\n",
    "# data/haarcascades/haarcascade_frontalface_default.xml\n",
    "# Trained XML classifiers describes some features of some\n",
    "# object we want to detect a cascade function is trained\n",
    "# from a lot of positive(faces) and negative(non-faces)\n",
    "# images.\n",
    "face_cascade = cv2.CascadeClassifier('C:\\\\Users\\\\nagasundar chokkakul\\\\Downloads\\\\haar-cascade-files-master\\\\haarcascade_frontalface_default.xml')\n",
    "  \n",
    "# https://github.com/Itseez/opencv/blob/master\n",
    "# /data/haarcascades/haarcascade_eye.xml\n",
    "# Trained XML file for detecting eyes\n",
    "eye_cascade = cv2.CascadeClassifier('C:\\\\Users\\\\nagasundar chokkakul\\\\Downloads\\\\haar-cascade-files-master\\\\haarcascade_eye.xml') \n",
    "  \n",
    "# capture frames from a camera\n",
    "cap = cv2.VideoCapture(0)\n",
    "  \n",
    "# loop runs if capturing has been initialized.\n",
    "while 1: \n",
    "  \n",
    "    # reads frames from a camera\n",
    "    ret, img = cap.read() \n",
    "  \n",
    "    # convert to gray scale of each frames\n",
    "    gray = cv2.cvtColor(img, cv2.COLOR_BGR2GRAY)\n",
    "  \n",
    "    # Detects faces of different sizes in the input image\n",
    "    faces = face_cascade.detectMultiScale(gray, 1.3, 5)\n",
    "  \n",
    "    for (x,y,w,h) in faces:\n",
    "        # To draw a rectangle in a face \n",
    "        cv2.rectangle(img,(x,y),(x+w,y+h),(255,255,0),2) \n",
    "        roi_gray = gray[y:y+h, x:x+w]\n",
    "        roi_color = img[y:y+h, x:x+w]\n",
    "  \n",
    "        # Detects eyes of different sizes in the input image\n",
    "        eyes = eye_cascade.detectMultiScale(roi_gray) \n",
    "\n",
    "        #To draw a rectangle in eyes\n",
    "        for (ex,ey,ew,eh) in eyes:\n",
    "            cv2.rectangle(roi_color,(ex,ey),(ex+ew,ey+eh),(0,127,255),2)\n",
    "  \n",
    "    # Display an image in a window\n",
    "    cv2.imshow('img',img)\n",
    "  \n",
    "    # Wait for Esc key to stop\n",
    "    k = cv2.waitKey(30) & 0xff\n",
    "    if k == 27:\n",
    "        break\n",
    "  \n",
    "# Close the window\n",
    "cap.release()\n",
    "  \n",
    "# De-allocate any associated memory usage\n",
    "cv2.destroyAllWindows() "
   ]
  },
  {
   "cell_type": "code",
   "execution_count": null,
   "id": "c60a9e19",
   "metadata": {},
   "outputs": [],
   "source": []
  },
  {
   "cell_type": "code",
   "execution_count": 6,
   "id": "340559c3",
   "metadata": {},
   "outputs": [
    {
     "ename": "ModuleNotFoundError",
     "evalue": "No module named 'face_detection'",
     "output_type": "error",
     "traceback": [
      "\u001b[1;31m---------------------------------------------------------------------------\u001b[0m",
      "\u001b[1;31mModuleNotFoundError\u001b[0m                       Traceback (most recent call last)",
      "\u001b[1;32m<ipython-input-6-d98a8a755d90>\u001b[0m in \u001b[0;36m<module>\u001b[1;34m\u001b[0m\n\u001b[1;32m----> 1\u001b[1;33m \u001b[1;32mimport\u001b[0m \u001b[0mface_detection\u001b[0m\u001b[1;33m\u001b[0m\u001b[1;33m\u001b[0m\u001b[0m\n\u001b[0m",
      "\u001b[1;31mModuleNotFoundError\u001b[0m: No module named 'face_detection'"
     ]
    }
   ],
   "source": [
    "import face_detection"
   ]
  },
  {
   "cell_type": "code",
   "execution_count": 4,
   "id": "1d78b2ae",
   "metadata": {},
   "outputs": [
    {
     "ename": "ModuleNotFoundError",
     "evalue": "No module named 'face_detection'",
     "output_type": "error",
     "traceback": [
      "\u001b[1;31m---------------------------------------------------------------------------\u001b[0m",
      "\u001b[1;31mModuleNotFoundError\u001b[0m                       Traceback (most recent call last)",
      "\u001b[1;32m<ipython-input-4-febc32e21491>\u001b[0m in \u001b[0;36m<module>\u001b[1;34m\u001b[0m\n\u001b[1;32m----> 1\u001b[1;33m \u001b[1;32mimport\u001b[0m \u001b[0mface_detection\u001b[0m\u001b[1;33m\u001b[0m\u001b[1;33m\u001b[0m\u001b[0m\n\u001b[0m\u001b[0;32m      2\u001b[0m \u001b[1;31m# Initialize detector\u001b[0m\u001b[1;33m\u001b[0m\u001b[1;33m\u001b[0m\u001b[1;33m\u001b[0m\u001b[0m\n\u001b[0;32m      3\u001b[0m \u001b[0mdetector\u001b[0m \u001b[1;33m=\u001b[0m \u001b[0mface_detection\u001b[0m\u001b[1;33m.\u001b[0m\u001b[0mbuild_detector\u001b[0m\u001b[1;33m(\u001b[0m\u001b[1;34m\"DSFDDetector\"\u001b[0m\u001b[1;33m,\u001b[0m \u001b[0mconfidence_threshold\u001b[0m\u001b[1;33m=\u001b[0m\u001b[1;36m.5\u001b[0m\u001b[1;33m,\u001b[0m \u001b[0mnms_iou_threshold\u001b[0m\u001b[1;33m=\u001b[0m\u001b[1;36m.3\u001b[0m\u001b[1;33m)\u001b[0m\u001b[1;33m\u001b[0m\u001b[1;33m\u001b[0m\u001b[0m\n\u001b[0;32m      4\u001b[0m \u001b[1;31m# Read image\u001b[0m\u001b[1;33m\u001b[0m\u001b[1;33m\u001b[0m\u001b[1;33m\u001b[0m\u001b[0m\n\u001b[0;32m      5\u001b[0m \u001b[0mimg\u001b[0m \u001b[1;33m=\u001b[0m \u001b[0mcv2\u001b[0m\u001b[1;33m.\u001b[0m\u001b[0mimread\u001b[0m\u001b[1;33m(\u001b[0m\u001b[1;34m\"image.jpg\"\u001b[0m\u001b[1;33m)\u001b[0m\u001b[1;33m\u001b[0m\u001b[1;33m\u001b[0m\u001b[0m\n",
      "\u001b[1;31mModuleNotFoundError\u001b[0m: No module named 'face_detection'"
     ]
    }
   ],
   "source": [
    "import face_detection\n",
    "# Initialize detector\n",
    "detector = face_detection.build_detector(\"DSFDDetector\", confidence_threshold=.5, nms_iou_threshold=.3)\n",
    "# Read image\n",
    "img = cv2.imread(\"image.jpg\")\n",
    "# Getting detections\n",
    "detections = detector.detect(img)"
   ]
  },
  {
   "cell_type": "code",
   "execution_count": null,
   "id": "6f4040ef",
   "metadata": {},
   "outputs": [],
   "source": []
  }
 ],
 "metadata": {
  "kernelspec": {
   "display_name": "Python 3",
   "language": "python",
   "name": "python3"
  },
  "language_info": {
   "codemirror_mode": {
    "name": "ipython",
    "version": 3
   },
   "file_extension": ".py",
   "mimetype": "text/x-python",
   "name": "python",
   "nbconvert_exporter": "python",
   "pygments_lexer": "ipython3",
   "version": "3.8.8"
  }
 },
 "nbformat": 4,
 "nbformat_minor": 5
}
